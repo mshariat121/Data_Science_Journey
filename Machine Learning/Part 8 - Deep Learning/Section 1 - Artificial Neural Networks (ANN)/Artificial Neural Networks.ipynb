{
 "cells": [
  {
   "cell_type": "code",
   "execution_count": 1,
   "metadata": {},
   "outputs": [
    {
     "name": "stderr",
     "output_type": "stream",
     "text": [
      "/anaconda3/lib/python3.7/site-packages/sklearn/preprocessing/_encoders.py:368: FutureWarning: The handling of integer data will change in version 0.22. Currently, the categories are determined based on the range [0, max(values)], while in the future they will be determined based on the unique values.\n",
      "If you want the future behaviour and silence this warning, you can specify \"categories='auto'\".\n",
      "In case you used a LabelEncoder before this OneHotEncoder to convert the categories to integers, then you can now use the OneHotEncoder directly.\n",
      "  warnings.warn(msg, FutureWarning)\n",
      "/anaconda3/lib/python3.7/site-packages/sklearn/preprocessing/_encoders.py:390: DeprecationWarning: The 'categorical_features' keyword is deprecated in version 0.20 and will be removed in 0.22. You can use the ColumnTransformer instead.\n",
      "  \"use the ColumnTransformer instead.\", DeprecationWarning)\n"
     ]
    }
   ],
   "source": [
    "import numpy as np\n",
    "import pandas as pd\n",
    "import matplotlib.pyplot as plt\n",
    "\n",
    "dataset = pd.read_csv(\"Churn_Modelling.csv\")\n",
    "\n",
    "X = dataset.iloc[:,3:-1].values\n",
    "y = dataset.iloc[:,13].values\n",
    "\n",
    "from sklearn.preprocessing import LabelEncoder, OneHotEncoder\n",
    "labelencoder_X_1 = LabelEncoder()\n",
    "X[:, 1] = labelencoder_X_1.fit_transform(X[:, 1])\n",
    "labelencoder_X_2 = LabelEncoder()\n",
    "X[:, 2] = labelencoder_X_2.fit_transform(X[:, 2])\n",
    "onehotencoder = OneHotEncoder(categorical_features = [1])\n",
    "X = onehotencoder.fit_transform(X).toarray()\n",
    "\n",
    "X = X[:, 1:]\n",
    "\n",
    "from sklearn.model_selection import train_test_split\n",
    "X_train, X_test, y_train, y_test = train_test_split(X, y, test_size = 0.2, random_state = 0)\n",
    "\n",
    "from sklearn.preprocessing import StandardScaler\n",
    "sc_X = StandardScaler()\n",
    "X_train = sc_X.fit_transform(X_train)\n",
    "X_test = sc_X.transform(X_test)"
   ]
  },
  {
   "cell_type": "code",
   "execution_count": 2,
   "metadata": {},
   "outputs": [
    {
     "name": "stderr",
     "output_type": "stream",
     "text": [
      "Using TensorFlow backend.\n"
     ]
    }
   ],
   "source": [
    "import keras\n",
    "from keras.models import Sequential\n",
    "from keras.layers import Dense\n",
    "\n",
    "classifier = Sequential()"
   ]
  },
  {
   "cell_type": "code",
   "execution_count": 3,
   "metadata": {},
   "outputs": [
    {
     "name": "stdout",
     "output_type": "stream",
     "text": [
      "WARNING:tensorflow:From /anaconda3/lib/python3.7/site-packages/tensorflow/python/framework/op_def_library.py:263: colocate_with (from tensorflow.python.framework.ops) is deprecated and will be removed in a future version.\n",
      "Instructions for updating:\n",
      "Colocations handled automatically by placer.\n"
     ]
    }
   ],
   "source": [
    "classifier.add(Dense(units = 6, kernel_initializer = 'uniform', activation = 'relu', input_dim = 11))"
   ]
  },
  {
   "cell_type": "code",
   "execution_count": 4,
   "metadata": {},
   "outputs": [],
   "source": [
    "classifier.add(Dense(units = 6, kernel_initializer = 'uniform', activation = 'relu'))"
   ]
  },
  {
   "cell_type": "code",
   "execution_count": 5,
   "metadata": {},
   "outputs": [],
   "source": [
    "classifier.add(Dense(units = 1, kernel_initializer = 'uniform', activation = 'sigmoid'))"
   ]
  },
  {
   "cell_type": "code",
   "execution_count": 6,
   "metadata": {},
   "outputs": [],
   "source": [
    "classifier.compile(optimizer = 'adam', loss = 'binary_crossentropy', metrics = ['accuracy'])"
   ]
  },
  {
   "cell_type": "code",
   "execution_count": 7,
   "metadata": {},
   "outputs": [
    {
     "name": "stdout",
     "output_type": "stream",
     "text": [
      "WARNING:tensorflow:From /anaconda3/lib/python3.7/site-packages/tensorflow/python/ops/math_ops.py:3066: to_int32 (from tensorflow.python.ops.math_ops) is deprecated and will be removed in a future version.\n",
      "Instructions for updating:\n",
      "Use tf.cast instead.\n",
      "Epoch 1/100\n",
      "8000/8000 [==============================] - 1s 131us/step - loss: 0.4816 - acc: 0.7952\n",
      "Epoch 2/100\n",
      "8000/8000 [==============================] - 1s 103us/step - loss: 0.4272 - acc: 0.7960\n",
      "Epoch 3/100\n",
      "8000/8000 [==============================] - 1s 92us/step - loss: 0.4218 - acc: 0.7967\n",
      "Epoch 4/100\n",
      "8000/8000 [==============================] - 1s 91us/step - loss: 0.4179 - acc: 0.8234\n",
      "Epoch 5/100\n",
      "8000/8000 [==============================] - 1s 88us/step - loss: 0.4161 - acc: 0.8266\n",
      "Epoch 6/100\n",
      "8000/8000 [==============================] - 1s 95us/step - loss: 0.4139 - acc: 0.8299\n",
      "Epoch 7/100\n",
      "8000/8000 [==============================] - 1s 109us/step - loss: 0.4129 - acc: 0.8304\n",
      "Epoch 8/100\n",
      "8000/8000 [==============================] - 1s 118us/step - loss: 0.4119 - acc: 0.8321\n",
      "Epoch 9/100\n",
      "8000/8000 [==============================] - 1s 105us/step - loss: 0.4105 - acc: 0.8312\n",
      "Epoch 10/100\n",
      "8000/8000 [==============================] - 1s 96us/step - loss: 0.4098 - acc: 0.8317\n",
      "Epoch 11/100\n",
      "8000/8000 [==============================] - 1s 92us/step - loss: 0.4092 - acc: 0.8319\n",
      "Epoch 12/100\n",
      "8000/8000 [==============================] - 1s 101us/step - loss: 0.4084 - acc: 0.8350\n",
      "Epoch 13/100\n",
      "8000/8000 [==============================] - 1s 96us/step - loss: 0.4078 - acc: 0.8336\n",
      "Epoch 14/100\n",
      "8000/8000 [==============================] - 1s 113us/step - loss: 0.4072 - acc: 0.8336\n",
      "Epoch 15/100\n",
      "8000/8000 [==============================] - 1s 112us/step - loss: 0.4060 - acc: 0.8350 0s - loss: 0.4036 - acc: 0.\n",
      "Epoch 16/100\n",
      "8000/8000 [==============================] - 1s 105us/step - loss: 0.4065 - acc: 0.8319\n",
      "Epoch 17/100\n",
      "8000/8000 [==============================] - 1s 101us/step - loss: 0.4060 - acc: 0.8334\n",
      "Epoch 18/100\n",
      "8000/8000 [==============================] - 1s 101us/step - loss: 0.4056 - acc: 0.8320\n",
      "Epoch 19/100\n",
      "8000/8000 [==============================] - 1s 103us/step - loss: 0.4051 - acc: 0.8322\n",
      "Epoch 20/100\n",
      "8000/8000 [==============================] - 1s 105us/step - loss: 0.4050 - acc: 0.8344 0s - loss: 0.3994 - \n",
      "Epoch 21/100\n",
      "8000/8000 [==============================] - 1s 99us/step - loss: 0.4050 - acc: 0.8325\n",
      "Epoch 22/100\n",
      "8000/8000 [==============================] - 1s 98us/step - loss: 0.4048 - acc: 0.8327\n",
      "Epoch 23/100\n",
      "8000/8000 [==============================] - 1s 118us/step - loss: 0.4038 - acc: 0.8342\n",
      "Epoch 24/100\n",
      "8000/8000 [==============================] - 1s 109us/step - loss: 0.4036 - acc: 0.8329\n",
      "Epoch 25/100\n",
      "8000/8000 [==============================] - 1s 98us/step - loss: 0.4036 - acc: 0.8357\n",
      "Epoch 26/100\n",
      "8000/8000 [==============================] - 1s 98us/step - loss: 0.4036 - acc: 0.8350: 0s - loss: 0.4074 - ac\n",
      "Epoch 27/100\n",
      "8000/8000 [==============================] - 1s 97us/step - loss: 0.4035 - acc: 0.8342\n",
      "Epoch 28/100\n",
      "8000/8000 [==============================] - 1s 96us/step - loss: 0.4027 - acc: 0.8341\n",
      "Epoch 29/100\n",
      "8000/8000 [==============================] - 1s 97us/step - loss: 0.4035 - acc: 0.8350\n",
      "Epoch 30/100\n",
      "8000/8000 [==============================] - 1s 98us/step - loss: 0.4032 - acc: 0.8354\n",
      "Epoch 31/100\n",
      "8000/8000 [==============================] - 1s 90us/step - loss: 0.4027 - acc: 0.8346\n",
      "Epoch 32/100\n",
      "8000/8000 [==============================] - 1s 100us/step - loss: 0.4021 - acc: 0.8341 0s - loss: 0.4045 - acc: 0.8\n",
      "Epoch 33/100\n",
      "8000/8000 [==============================] - 1s 120us/step - loss: 0.4026 - acc: 0.8327\n",
      "Epoch 34/100\n",
      "8000/8000 [==============================] - 1s 135us/step - loss: 0.4023 - acc: 0.8335 1s - loss: \n",
      "Epoch 35/100\n",
      "8000/8000 [==============================] - 1s 101us/step - loss: 0.4025 - acc: 0.8340\n",
      "Epoch 36/100\n",
      "8000/8000 [==============================] - 1s 97us/step - loss: 0.4023 - acc: 0.8352\n",
      "Epoch 37/100\n",
      "8000/8000 [==============================] - 1s 94us/step - loss: 0.4023 - acc: 0.8329\n",
      "Epoch 38/100\n",
      "8000/8000 [==============================] - 1s 95us/step - loss: 0.4017 - acc: 0.8335\n",
      "Epoch 39/100\n",
      "8000/8000 [==============================] - 1s 95us/step - loss: 0.4019 - acc: 0.8334\n",
      "Epoch 40/100\n",
      "8000/8000 [==============================] - 1s 96us/step - loss: 0.4017 - acc: 0.8327\n",
      "Epoch 41/100\n",
      "8000/8000 [==============================] - 1s 101us/step - loss: 0.4022 - acc: 0.8340\n",
      "Epoch 42/100\n",
      "8000/8000 [==============================] - 1s 99us/step - loss: 0.4020 - acc: 0.8334\n",
      "Epoch 43/100\n",
      "8000/8000 [==============================] - 1s 94us/step - loss: 0.4018 - acc: 0.8334\n",
      "Epoch 44/100\n",
      "8000/8000 [==============================] - 1s 97us/step - loss: 0.4015 - acc: 0.8342\n",
      "Epoch 45/100\n",
      "8000/8000 [==============================] - 1s 95us/step - loss: 0.4016 - acc: 0.8331\n",
      "Epoch 46/100\n",
      "8000/8000 [==============================] - 1s 98us/step - loss: 0.4011 - acc: 0.8330\n",
      "Epoch 47/100\n",
      "8000/8000 [==============================] - 1s 95us/step - loss: 0.4012 - acc: 0.8339\n",
      "Epoch 48/100\n",
      "8000/8000 [==============================] - 1s 103us/step - loss: 0.4013 - acc: 0.8351\n",
      "Epoch 49/100\n",
      "8000/8000 [==============================] - 1s 92us/step - loss: 0.4016 - acc: 0.8350\n",
      "Epoch 50/100\n",
      "8000/8000 [==============================] - 1s 97us/step - loss: 0.4006 - acc: 0.8352\n",
      "Epoch 51/100\n",
      "8000/8000 [==============================] - 1s 100us/step - loss: 0.4012 - acc: 0.8346\n",
      "Epoch 52/100\n",
      "8000/8000 [==============================] - 1s 102us/step - loss: 0.4013 - acc: 0.8330 0s - loss: 0.4073 - acc: \n",
      "Epoch 53/100\n",
      "8000/8000 [==============================] - 1s 111us/step - loss: 0.4009 - acc: 0.8332\n",
      "Epoch 54/100\n",
      "8000/8000 [==============================] - 1s 106us/step - loss: 0.4013 - acc: 0.8335\n",
      "Epoch 55/100\n",
      "8000/8000 [==============================] - 1s 105us/step - loss: 0.4009 - acc: 0.8364\n",
      "Epoch 56/100\n",
      "8000/8000 [==============================] - 1s 100us/step - loss: 0.4010 - acc: 0.8342\n",
      "Epoch 57/100\n",
      "8000/8000 [==============================] - 1s 103us/step - loss: 0.4010 - acc: 0.8335\n",
      "Epoch 58/100\n",
      "8000/8000 [==============================] - 1s 99us/step - loss: 0.4009 - acc: 0.8345\n",
      "Epoch 59/100\n",
      "8000/8000 [==============================] - 1s 112us/step - loss: 0.4012 - acc: 0.8370\n",
      "Epoch 60/100\n",
      "8000/8000 [==============================] - 1s 102us/step - loss: 0.4007 - acc: 0.8340\n",
      "Epoch 61/100\n",
      "8000/8000 [==============================] - 1s 101us/step - loss: 0.4007 - acc: 0.8341\n",
      "Epoch 62/100\n",
      "8000/8000 [==============================] - 1s 99us/step - loss: 0.4009 - acc: 0.8347\n",
      "Epoch 63/100\n",
      "8000/8000 [==============================] - 1s 103us/step - loss: 0.4005 - acc: 0.8340\n",
      "Epoch 64/100\n",
      "8000/8000 [==============================] - 1s 102us/step - loss: 0.4006 - acc: 0.8334\n",
      "Epoch 65/100\n",
      "8000/8000 [==============================] - 1s 101us/step - loss: 0.4007 - acc: 0.8347\n",
      "Epoch 66/100\n",
      "8000/8000 [==============================] - 1s 98us/step - loss: 0.4005 - acc: 0.8355\n",
      "Epoch 67/100\n",
      "8000/8000 [==============================] - 1s 106us/step - loss: 0.4005 - acc: 0.8339\n",
      "Epoch 68/100\n",
      "8000/8000 [==============================] - 1s 104us/step - loss: 0.4006 - acc: 0.8350\n",
      "Epoch 69/100\n",
      "8000/8000 [==============================] - 1s 102us/step - loss: 0.4000 - acc: 0.8344\n",
      "Epoch 70/100\n",
      "8000/8000 [==============================] - 1s 132us/step - loss: 0.4007 - acc: 0.8337\n",
      "Epoch 71/100\n",
      "8000/8000 [==============================] - 1s 148us/step - loss: 0.3998 - acc: 0.8340\n",
      "Epoch 72/100\n",
      "8000/8000 [==============================] - 1s 101us/step - loss: 0.4007 - acc: 0.8357\n",
      "Epoch 73/100\n",
      "8000/8000 [==============================] - 1s 97us/step - loss: 0.4005 - acc: 0.8349\n",
      "Epoch 74/100\n",
      "8000/8000 [==============================] - 1s 99us/step - loss: 0.3996 - acc: 0.8339\n",
      "Epoch 75/100\n",
      "8000/8000 [==============================] - 1s 96us/step - loss: 0.4002 - acc: 0.8339\n",
      "Epoch 76/100\n",
      "8000/8000 [==============================] - 1s 99us/step - loss: 0.4001 - acc: 0.8350\n",
      "Epoch 77/100\n",
      "8000/8000 [==============================] - 1s 97us/step - loss: 0.3999 - acc: 0.8350\n",
      "Epoch 78/100\n"
     ]
    },
    {
     "name": "stdout",
     "output_type": "stream",
     "text": [
      "8000/8000 [==============================] - 1s 96us/step - loss: 0.4002 - acc: 0.8355\n",
      "Epoch 79/100\n",
      "8000/8000 [==============================] - 1s 96us/step - loss: 0.4002 - acc: 0.8341\n",
      "Epoch 80/100\n",
      "8000/8000 [==============================] - 1s 96us/step - loss: 0.4000 - acc: 0.8352\n",
      "Epoch 81/100\n",
      "8000/8000 [==============================] - 1s 98us/step - loss: 0.3999 - acc: 0.8347\n",
      "Epoch 82/100\n",
      "8000/8000 [==============================] - 1s 104us/step - loss: 0.4002 - acc: 0.8347\n",
      "Epoch 83/100\n",
      "8000/8000 [==============================] - 1s 102us/step - loss: 0.4003 - acc: 0.8357\n",
      "Epoch 84/100\n",
      "8000/8000 [==============================] - 1s 95us/step - loss: 0.3999 - acc: 0.8356\n",
      "Epoch 85/100\n",
      "8000/8000 [==============================] - 1s 95us/step - loss: 0.3998 - acc: 0.8356\n",
      "Epoch 86/100\n",
      "8000/8000 [==============================] - 1s 96us/step - loss: 0.4001 - acc: 0.8364\n",
      "Epoch 87/100\n",
      "8000/8000 [==============================] - 1s 96us/step - loss: 0.3996 - acc: 0.8359\n",
      "Epoch 88/100\n",
      "8000/8000 [==============================] - 1s 94us/step - loss: 0.3999 - acc: 0.8352\n",
      "Epoch 89/100\n",
      "8000/8000 [==============================] - 1s 96us/step - loss: 0.4002 - acc: 0.8344\n",
      "Epoch 90/100\n",
      "8000/8000 [==============================] - 1s 94us/step - loss: 0.4001 - acc: 0.8342\n",
      "Epoch 91/100\n",
      "8000/8000 [==============================] - 1s 91us/step - loss: 0.3998 - acc: 0.8351: 0s - loss: 0.3988 - acc: 0.8\n",
      "Epoch 92/100\n",
      "8000/8000 [==============================] - 1s 93us/step - loss: 0.4000 - acc: 0.8350\n",
      "Epoch 93/100\n",
      "8000/8000 [==============================] - 1s 95us/step - loss: 0.3995 - acc: 0.8352: 0s - loss: 0.4001 - acc: 0.835\n",
      "Epoch 94/100\n",
      "8000/8000 [==============================] - 1s 95us/step - loss: 0.3999 - acc: 0.8350\n",
      "Epoch 95/100\n",
      "8000/8000 [==============================] - 1s 96us/step - loss: 0.3996 - acc: 0.8346\n",
      "Epoch 96/100\n",
      "8000/8000 [==============================] - 1s 102us/step - loss: 0.3996 - acc: 0.8335\n",
      "Epoch 97/100\n",
      "8000/8000 [==============================] - 1s 100us/step - loss: 0.3997 - acc: 0.8346\n",
      "Epoch 98/100\n",
      "8000/8000 [==============================] - 1s 96us/step - loss: 0.3989 - acc: 0.8360\n",
      "Epoch 99/100\n",
      "8000/8000 [==============================] - 1s 96us/step - loss: 0.4001 - acc: 0.8352\n",
      "Epoch 100/100\n",
      "8000/8000 [==============================] - 1s 96us/step - loss: 0.4000 - acc: 0.8362\n"
     ]
    },
    {
     "data": {
      "text/plain": [
       "<keras.callbacks.History at 0x1a30e66b38>"
      ]
     },
     "execution_count": 7,
     "metadata": {},
     "output_type": "execute_result"
    }
   ],
   "source": [
    "classifier.fit(X_train, y_train, batch_size = 10, epochs = 100)"
   ]
  },
  {
   "cell_type": "code",
   "execution_count": 10,
   "metadata": {},
   "outputs": [],
   "source": [
    "y_pred = classifier.predict(X_test)\n",
    "y_pred = y_pred > 0.5"
   ]
  },
  {
   "cell_type": "code",
   "execution_count": 12,
   "metadata": {},
   "outputs": [
    {
     "data": {
      "text/plain": [
       "(array([[False],\n",
       "        [False],\n",
       "        [False],\n",
       "        ...,\n",
       "        [False],\n",
       "        [False],\n",
       "        [False]]), array([0, 1, 0, ..., 0, 0, 0]))"
      ]
     },
     "execution_count": 12,
     "metadata": {},
     "output_type": "execute_result"
    }
   ],
   "source": [
    "y_pred , y_test"
   ]
  },
  {
   "cell_type": "code",
   "execution_count": 20,
   "metadata": {},
   "outputs": [
    {
     "name": "stdout",
     "output_type": "stream",
     "text": [
      "Confiusion Matrix = \n",
      "       0    1\n",
      "0  1535   60\n",
      "1   246  159\n",
      "\n",
      "Accuracy =  0.85\n",
      "Precision =  0.73\n",
      "Recall =  0.39\n",
      "F1 Score =  0.51\n"
     ]
    }
   ],
   "source": [
    "from sklearn.metrics import confusion_matrix\n",
    "cm = confusion_matrix(y_test, y_pred)\n",
    "\n",
    "tn, fp, fn, tp = cm.ravel()\n",
    "\n",
    "accuracy = (tn + tp) / (tn + fp + fn + tp)\n",
    "precision = tp / (tp + fp)\n",
    "recall = tp / (tp + fn)\n",
    "f1_score = 2 * precision * recall / (precision + recall)\n",
    "\n",
    "print('Confiusion Matrix = \\n', pd.DataFrame(cm))\n",
    "print('\\nAccuracy = ', round(accuracy,2))\n",
    "print('Precision = ', round(precision,2))\n",
    "print('Recall = ', round(recall,2))\n",
    "print('F1 Score = ', round(f1_score,2))"
   ]
  },
  {
   "cell_type": "code",
   "execution_count": null,
   "metadata": {},
   "outputs": [],
   "source": []
  }
 ],
 "metadata": {
  "kernelspec": {
   "display_name": "Python 3",
   "language": "python",
   "name": "python3"
  },
  "language_info": {
   "codemirror_mode": {
    "name": "ipython",
    "version": 3
   },
   "file_extension": ".py",
   "mimetype": "text/x-python",
   "name": "python",
   "nbconvert_exporter": "python",
   "pygments_lexer": "ipython3",
   "version": "3.7.1"
  }
 },
 "nbformat": 4,
 "nbformat_minor": 2
}
